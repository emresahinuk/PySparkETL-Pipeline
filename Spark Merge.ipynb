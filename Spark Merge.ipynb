{
 "cells": [
  {
   "cell_type": "code",
   "execution_count": null,
   "id": "108a31f2",
   "metadata": {
    "scrolled": true
   },
   "outputs": [],
   "source": [
    "conda install -c cyclus java-jdk"
   ]
  },
  {
   "cell_type": "code",
   "execution_count": null,
   "id": "e65e4a6b",
   "metadata": {},
   "outputs": [],
   "source": [
    "pip install pyspark findspark"
   ]
  },
  {
   "cell_type": "code",
   "execution_count": 1,
   "id": "33de91ee",
   "metadata": {
    "scrolled": false
   },
   "outputs": [],
   "source": [
    "import pyspark\n",
    "import json\n",
    "import findspark\n",
    "import pandas as pd\n",
    "findspark.init()\n",
    "from pyspark.sql.types import *\n",
    "from pyspark.sql.functions import *"
   ]
  },
  {
   "cell_type": "code",
   "execution_count": 2,
   "id": "231748c4",
   "metadata": {},
   "outputs": [],
   "source": [
    "from pyspark.sql import SparkSession, types"
   ]
  },
  {
   "cell_type": "code",
   "execution_count": 4,
   "id": "d9d55941",
   "metadata": {},
   "outputs": [],
   "source": [
    "from pyspark.sql import SparkSession\n",
    "\n",
    "spark = SparkSession \\\n",
    "    .builder \\\n",
    "    .appName(\"Python Spark SQL basic example\") \\\n",
    "    .getOrCreate()"
   ]
  },
  {
   "cell_type": "code",
   "execution_count": 5,
   "id": "8a8feef6",
   "metadata": {},
   "outputs": [
    {
     "name": "stdout",
     "output_type": "stream",
     "text": [
      "root\n",
      " |-- _corrupt_record: string (nullable = true)\n",
      " |-- category: string (nullable = true)\n",
      " |-- category_id: string (nullable = true)\n",
      "\n",
      "+---------------+--------------------+-----------+\n",
      "|_corrupt_record|            category|category_id|\n",
      "+---------------+--------------------+-----------+\n",
      "|              [|                null|       null|\n",
      "|           null|\"Other (none of t...|        249|\n",
      "|           null|           \"Billing\"|         63|\n",
      "|           null|           \"Handset\"|         67|\n",
      "|           null|         \"Your plan\"|         72|\n",
      "|           null| \"Customer services\"|         71|\n",
      "|           null|  \"Network coverage\"|         69|\n",
      "|           null|\"International ro...|         68|\n",
      "|           null|         \"Purchases\"|        770|\n",
      "|           null|\"Expectations not...|         70|\n",
      "|           null|             \"Fraud\"|         65|\n",
      "|              ]|                null|       null|\n",
      "+---------------+--------------------+-----------+\n",
      "\n"
     ]
    }
   ],
   "source": [
    "df1 = spark.read.json(r\"C:\\Users\\Emre\\Downloads\\DE_TEST\\input_data\\category_names.json\")\n",
    "df1.printSchema()\n",
    "df1.show()"
   ]
  },
  {
   "cell_type": "code",
   "execution_count": 6,
   "id": "6f0ef98b",
   "metadata": {},
   "outputs": [
    {
     "name": "stdout",
     "output_type": "stream",
     "text": [
      "root\n",
      " |-- category_id: string (nullable = true)\n",
      " |-- created_at: string (nullable = true)\n",
      " |-- service_id: string (nullable = true)\n",
      " |-- text: string (nullable = true)\n",
      "\n",
      "+-----------+--------------------+----------+--------------------+\n",
      "|category_id|          created_at|service_id|                text|\n",
      "+-----------+--------------------+----------+--------------------+\n",
      "|        249|\"2018-08-21 12:34...|     53014|\"I am getting cal...|\n",
      "|         63|\"2018-08-29 14:03...|       409|\"I had a mobile a...|\n",
      "|         63|\"2018-08-24 06:11...|     53785|\"Charging me doub...|\n",
      "|        249|\"2018-08-23 17:30...|       349|\"19 August unfort...|\n",
      "|         67|\"2018-09-05 11:54...|       399|\"Hi I have phoned...|\n",
      "|         72|\"2018-09-06 13:06...|       620|\"When I originall...|\n",
      "|         72|\"2018-09-04 12:28...|     51870|\"I have been aske...|\n",
      "|         67|\"2018-09-06 08:28...|     15708|\"I purchased andr...|\n",
      "|         63|\"2018-08-23 03:24...|       218|\"I currently have...|\n",
      "|         63|\"2018-09-04 13:05...|       399|\"I have recently ...|\n",
      "|         71|\"2018-08-28 00:05...|       399|\"I'd like to rais...|\n",
      "|         63|\"2018-08-28 13:20...|       399|\"I have purchased...|\n",
      "|         63|\"2018-08-28 11:33...|       620|\"I have just chec...|\n",
      "|         63|\"2018-08-23 15:59...|     15708|\"i am no longer a...|\n",
      "|         69|\"2018-08-27 11:13...|       218|\"I have been work...|\n",
      "|         63|\"2018-08-31 11:20...|       252|\"My brother was v...|\n",
      "|         63|\"2018-09-01 14:24...|     51870|\"Please read the ...|\n",
      "|        249|\"2018-08-27 16:58...|     51870|\"I have recently ...|\n",
      "|         69|\"2018-08-22 10:22...|     20564|\"My ID account ha...|\n",
      "|         67|\"2018-08-22 20:35...|     51870|\"I phoned today t...|\n",
      "+-----------+--------------------+----------+--------------------+\n",
      "only showing top 20 rows\n",
      "\n"
     ]
    }
   ],
   "source": [
    "df2 = spark.read.option(\"multiline\",\"true\").json(r\"C:\\Users\\Emre\\Downloads\\DE_TEST\\input_data\\complaints.json\")\n",
    "df2.printSchema()\n",
    "df2.show()"
   ]
  },
  {
   "cell_type": "code",
   "execution_count": 7,
   "id": "b3891b52",
   "metadata": {},
   "outputs": [
    {
     "name": "stdout",
     "output_type": "stream",
     "text": [
      "root\n",
      " |-- _corrupt_record: string (nullable = true)\n",
      " |-- id: string (nullable = true)\n",
      " |-- service_name: string (nullable = true)\n",
      "\n",
      "+---------------+-----+--------------------+\n",
      "|_corrupt_record|   id|        service_name|\n",
      "+---------------+-----+--------------------+\n",
      "|              [| null|                null|\n",
      "|           null|53014|            \"Mobile\"|\n",
      "|           null|  409|            \"Mobile\"|\n",
      "|           null|53785|        \"Sky Mobile\"|\n",
      "|           null|  349|            \"Mobile\"|\n",
      "|           null|  399|\"Mobile (Pay Mont...|\n",
      "|           null|  620|            \"Mobile\"|\n",
      "|           null|51870|            \"Mobile\"|\n",
      "|           null|15708| \"Mobile (Pay & Go)\"|\n",
      "|           null|  218|            \"Mobile\"|\n",
      "|           null|  252|            \"Mobile\"|\n",
      "|           null|20564|       \"Mobile SIMS\"|\n",
      "|           null|20881|\"Mobile Phone Ser...|\n",
      "|           null|  109|            \"Mobile\"|\n",
      "|           null| 7482|           \"Mobiles\"|\n",
      "|           null|  332|            \"Mobile\"|\n",
      "|           null| 7337|            \"Mobile\"|\n",
      "|              ]| null|                null|\n",
      "+---------------+-----+--------------------+\n",
      "\n"
     ]
    }
   ],
   "source": [
    "df3 = spark.read.json(r\"C:\\Users\\Emre\\Downloads\\DE_TEST\\input_data\\service_names.json\")\n",
    "df3.printSchema()\n",
    "df3.show()"
   ]
  },
  {
   "cell_type": "code",
   "execution_count": 21,
   "id": "2cce1912",
   "metadata": {
    "scrolled": true
   },
   "outputs": [
    {
     "name": "stdout",
     "output_type": "stream",
     "text": [
      "+-----------+--------------------+----------+--------------------+--------------------+--------------------+\n",
      "|category_id|Complaint_Created_At|service_id|      Complaint_Text|       Category_Name|        Service_Name|\n",
      "+-----------+--------------------+----------+--------------------+--------------------+--------------------+\n",
      "|        249|\"2018-08-21 12:34...|     53014|\"I am getting cal...|\"Other (none of t...|            \"Mobile\"|\n",
      "|         63|\"2018-08-29 14:03...|       409|\"I had a mobile a...|           \"Billing\"|            \"Mobile\"|\n",
      "|         63|\"2018-08-24 06:11...|     53785|\"Charging me doub...|           \"Billing\"|        \"Sky Mobile\"|\n",
      "|        249|\"2018-08-23 17:30...|       349|\"19 August unfort...|\"Other (none of t...|            \"Mobile\"|\n",
      "|         67|\"2018-09-05 11:54...|       399|\"Hi I have phoned...|           \"Handset\"|\"Mobile (Pay Mont...|\n",
      "|         72|\"2018-09-06 13:06...|       620|\"When I originall...|         \"Your plan\"|            \"Mobile\"|\n",
      "|         72|\"2018-09-04 12:28...|     51870|\"I have been aske...|         \"Your plan\"|            \"Mobile\"|\n",
      "|         67|\"2018-09-06 08:28...|     15708|\"I purchased andr...|           \"Handset\"| \"Mobile (Pay & Go)\"|\n",
      "|         63|\"2018-08-23 03:24...|       218|\"I currently have...|           \"Billing\"|            \"Mobile\"|\n",
      "|         63|\"2018-09-04 13:05...|       399|\"I have recently ...|           \"Billing\"|\"Mobile (Pay Mont...|\n",
      "|         71|\"2018-08-28 00:05...|       399|\"I'd like to rais...| \"Customer services\"|\"Mobile (Pay Mont...|\n",
      "|         63|\"2018-08-28 13:20...|       399|\"I have purchased...|           \"Billing\"|\"Mobile (Pay Mont...|\n",
      "|         63|\"2018-08-28 11:33...|       620|\"I have just chec...|           \"Billing\"|            \"Mobile\"|\n",
      "|         63|\"2018-08-23 15:59...|     15708|\"i am no longer a...|           \"Billing\"| \"Mobile (Pay & Go)\"|\n",
      "|         69|\"2018-08-27 11:13...|       218|\"I have been work...|  \"Network coverage\"|            \"Mobile\"|\n",
      "|         63|\"2018-08-31 11:20...|       252|\"My brother was v...|           \"Billing\"|            \"Mobile\"|\n",
      "|         63|\"2018-09-01 14:24...|     51870|\"Please read the ...|           \"Billing\"|            \"Mobile\"|\n",
      "|        249|\"2018-08-27 16:58...|     51870|\"I have recently ...|\"Other (none of t...|            \"Mobile\"|\n",
      "|         69|\"2018-08-22 10:22...|     20564|\"My ID account ha...|  \"Network coverage\"|       \"Mobile SIMS\"|\n",
      "|         67|\"2018-08-22 20:35...|     51870|\"I phoned today t...|           \"Handset\"|            \"Mobile\"|\n",
      "+-----------+--------------------+----------+--------------------+--------------------+--------------------+\n",
      "only showing top 20 rows\n",
      "\n"
     ]
    }
   ],
   "source": [
    "df2df1df3 = df2.join(df1).where(df2[\"category_id\"] == df1[\"category_id\"]).drop(df1['category_id'])\\\n",
    "    .join(df3).where(df2[\"service_id\"] == df3[\"id\"]).drop(df3['id'])  \\\n",
    "    .drop(df3['_corrupt_record'])  \\\n",
    "    .drop(df1['_corrupt_record'])  \\\n",
    "    .withColumnRenamed(\"service_name\",\"Service_Name\") \\\n",
    "    .withColumnRenamed(\"category\",\"Category_Name\") \\\n",
    "    .withColumnRenamed(\"created_at\",\"Complaint_Created_At\") \\\n",
    "    .withColumnRenamed(\"text\",\"Complaint_Text\")  \\\n",
    "    .write.csv(\"Process.csv\") \\\n",
    "    .show()"
   ]
  },
  {
   "cell_type": "code",
   "execution_count": null,
   "id": "dfd9e212",
   "metadata": {},
   "outputs": [],
   "source": []
  }
 ],
 "metadata": {
  "kernelspec": {
   "display_name": "Python 3 (ipykernel)",
   "language": "python",
   "name": "python3"
  },
  "language_info": {
   "codemirror_mode": {
    "name": "ipython",
    "version": 3
   },
   "file_extension": ".py",
   "mimetype": "text/x-python",
   "name": "python",
   "nbconvert_exporter": "python",
   "pygments_lexer": "ipython3",
   "version": "3.9.12"
  }
 },
 "nbformat": 4,
 "nbformat_minor": 5
}
